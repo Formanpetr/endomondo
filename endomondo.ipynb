{
 "cells": [
  {
   "cell_type": "markdown",
   "metadata": {},
   "source": [
    "### Needed imports "
   ]
  },
  {
   "cell_type": "code",
   "execution_count": null,
   "metadata": {},
   "outputs": [],
   "source": [
    "import bs4 as bs\n",
    "from selenium import webdriver\n",
    "from time import sleep\n",
    "import json"
   ]
  },
  {
   "cell_type": "markdown",
   "metadata": {},
   "source": [
    "### Set up"
   ]
  },
  {
   "cell_type": "code",
   "execution_count": null,
   "metadata": {},
   "outputs": [],
   "source": [
    "URL = 'https://www.endomondo.com/'\n",
    "LOGIN_ROUTE = 'login/'\n",
    "list_of_workouts = []\n",
    "USER_ID = ''\n",
    "WORKOUT_LIMIT = 1000\n",
    "EMAIL = 'email'\n",
    "PASS = 'password'"
   ]
  },
  {
   "cell_type": "markdown",
   "metadata": {},
   "source": [
    "### Log in  "
   ]
  },
  {
   "cell_type": "code",
   "execution_count": null,
   "metadata": {},
   "outputs": [],
   "source": [
    "def log_in(EMAIL,PASS):\n",
    "    sleep(2)\n",
    "    driver.find_element_by_name('email').send_keys(EMAIL)\n",
    "    sleep(3)\n",
    "    driver.find_element_by_name('password').send_keys(PASS)\n",
    "    sleep(1)\n",
    "    buttons = driver.find_elements_by_xpath(\"//*[contains(text(), 'LOG IN')]\")\n",
    "    for btn in buttons:\n",
    "        btn.click()\n",
    "        sleep(5)"
   ]
  },
  {
   "cell_type": "markdown",
   "metadata": {},
   "source": [
    "### Get user ID"
   ]
  },
  {
   "cell_type": "code",
   "execution_count": null,
   "metadata": {},
   "outputs": [],
   "source": [
    "def get_user_id():\n",
    "    HISTORY = ''\n",
    "    html = driver.execute_script(\"return document.documentElement.outerHTML\")\n",
    "    sel_soup = bs.BeautifulSoup(html, 'html.parser')\n",
    "    for link in sel_soup.findAll('a'):\n",
    "        if '/history' in str(link.get('href')):\n",
    "            HISTORY = link.get('href')[1:]\n",
    "    USER_ID_TMP = '' \n",
    "    USER_ID_TMP = HISTORY.replace('users/', '').replace('/history', '')\n",
    "    return USER_ID_TMP"
   ]
  },
  {
   "cell_type": "markdown",
   "metadata": {},
   "source": [
    "### Load all workouts "
   ]
  },
  {
   "cell_type": "code",
   "execution_count": null,
   "metadata": {},
   "outputs": [],
   "source": [
    "def load_all_workouts(USER_ID,WORKOUT_LIMIT):\n",
    "    list_of_workouts_tmp = []\n",
    "    ALL_HISTORY = 'rest/v1/users/{}/workouts/history?limit={}'.format(USER_ID,str(WORKOUT_LIMIT))\n",
    "    driver.get(URL+ALL_HISTORY)\n",
    "    sleep(5)\n",
    "    html_hist = driver.execute_script(\"return document.documentElement.outerHTML\")\n",
    "    sleep(5)\n",
    "    sel_soup_hist = bs.BeautifulSoup(html_hist, \"html.parser\")\n",
    "    table_hist = sel_soup_hist.find('pre').text\n",
    "    \n",
    "    table_hist_list = json.loads(table_hist).get('data')\n",
    "    for workout in table_hist_list:\n",
    "        list_of_workouts_tmp.append(workout.get('id'))\n",
    "    return list_of_workouts_tmp\n",
    "        "
   ]
  },
  {
   "cell_type": "markdown",
   "metadata": {},
   "source": [
    "### Get all workouts"
   ]
  },
  {
   "cell_type": "code",
   "execution_count": null,
   "metadata": {},
   "outputs": [],
   "source": [
    "def get_all_workouts(input_list):\n",
    "    for w in input_list:\n",
    "        driver.get(URL + '/rest/v1/users/{}/workouts/{}/export?format=GPX'.format(USER_ID,w))\n",
    "        sleep(5)"
   ]
  },
  {
   "cell_type": "markdown",
   "metadata": {},
   "source": [
    "### Run all"
   ]
  },
  {
   "cell_type": "code",
   "execution_count": null,
   "metadata": {
    "scrolled": true
   },
   "outputs": [],
   "source": [
    "driver = webdriver.Chrome()\n",
    "driver.get(URL+LOGIN_ROUTE)\n",
    "\n",
    "log_in(EMAIL,PASS)\n",
    "USER_ID = get_user_id()\n",
    "\n",
    "list_of_workouts = load_all_workouts(USER_ID,WORKOUT_LIMIT)\n",
    "get_all_workouts(list_of_workouts)\n",
    "\n"
   ]
  }
 ],
 "metadata": {
  "kernelspec": {
   "display_name": "Python 3",
   "language": "python",
   "name": "python3"
  },
  "language_info": {
   "codemirror_mode": {
    "name": "ipython",
    "version": 3
   },
   "file_extension": ".py",
   "mimetype": "text/x-python",
   "name": "python",
   "nbconvert_exporter": "python",
   "pygments_lexer": "ipython3",
   "version": "3.7.7"
  }
 },
 "nbformat": 4,
 "nbformat_minor": 4
}
